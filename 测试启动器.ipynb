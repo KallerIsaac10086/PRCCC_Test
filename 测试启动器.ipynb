{
 "cells": [
  {
   "cell_type": "code",
   "execution_count": 1,
   "id": "e2c08ee2-ee43-467d-85be-505ba4464e16",
   "metadata": {},
   "outputs": [],
   "source": [
    "from modelscope import AutoModelForCausalLM"
   ]
  },
  {
   "cell_type": "code",
   "execution_count": 2,
   "id": "c54bba16-b2f2-4888-abab-044d77f9e925",
   "metadata": {},
   "outputs": [
    {
     "name": "stderr",
     "output_type": "stream",
     "text": [
      "2025-03-21 23:18:48,583 - evalscope - INFO - Args: Task config is provided with TaskConfig type.\n",
      "Sliding Window Attention is enabled but not implemented for `sdpa`; unexpected results may be encountered.\n"
     ]
    },
    {
     "data": {
      "application/vnd.jupyter.widget-view+json": {
       "model_id": "20ffec77f0bf489c9823eb37c14acf6c",
       "version_major": 2,
       "version_minor": 0
      },
      "text/plain": [
       "Loading checkpoint shards:   0%|          | 0/4 [00:00<?, ?it/s]"
      ]
     },
     "metadata": {},
     "output_type": "display_data"
    },
    {
     "name": "stderr",
     "output_type": "stream",
     "text": [
      "2025-03-21 23:18:54,597 - evalscope - INFO - Dump task config to ./outputs/20250321_231848/configs/task_config_91682f.yaml\n",
      "2025-03-21 23:18:54,600 - evalscope - INFO - {\n",
      "    \"model\": \"/root/autodl-tmp/FusionDeepSeek/\",\n",
      "    \"model_id\": \"\",\n",
      "    \"model_args\": {\n",
      "        \"revision\": \"master\",\n",
      "        \"precision\": \"torch.float16\"\n",
      "    },\n",
      "    \"template_type\": null,\n",
      "    \"chat_template\": null,\n",
      "    \"datasets\": [\n",
      "        \"general_mcq\"\n",
      "    ],\n",
      "    \"dataset_args\": {\n",
      "        \"general_mcq\": {\n",
      "            \"name\": \"general_mcq\",\n",
      "            \"dataset_id\": \"/root/autodl-tmp/test_set/PRCCC_C\",\n",
      "            \"model_adapter\": \"multiple_choice_logits\",\n",
      "            \"output_types\": [\n",
      "                \"multiple_choice_logits\",\n",
      "                \"generation\"\n",
      "            ],\n",
      "            \"subset_list\": [\n",
      "                \"PRCCC_C\"\n",
      "            ],\n",
      "            \"metric_list\": [\n",
      "                \"AverageAccuracy\"\n",
      "            ],\n",
      "            \"few_shot_num\": 0,\n",
      "            \"few_shot_random\": false,\n",
      "            \"train_split\": \"dev\",\n",
      "            \"eval_split\": \"val\",\n",
      "            \"prompt_template\": \"请回答问题，并选出其中的正确答案\\n{query}\",\n",
      "            \"system_prompt\": null,\n",
      "            \"query_template\": \"问题：{question}\\n{choices}\\n答案: {answer}\\n\\n\",\n",
      "            \"pretty_name\": \"General MCQ\",\n",
      "            \"filters\": null,\n",
      "            \"extra_params\": {}\n",
      "        }\n",
      "    },\n",
      "    \"dataset_dir\": \"/root/.cache/modelscope/hub/datasets\",\n",
      "    \"dataset_hub\": \"modelscope\",\n",
      "    \"generation_config\": {\n",
      "        \"max_length\": 2048,\n",
      "        \"max_new_tokens\": 512,\n",
      "        \"do_sample\": false,\n",
      "        \"top_k\": 50,\n",
      "        \"top_p\": 1.0,\n",
      "        \"temperature\": 1.0\n",
      "    },\n",
      "    \"eval_type\": \"checkpoint\",\n",
      "    \"eval_backend\": \"Native\",\n",
      "    \"eval_config\": null,\n",
      "    \"stage\": \"all\",\n",
      "    \"limit\": null,\n",
      "    \"eval_batch_size\": 1,\n",
      "    \"mem_cache\": false,\n",
      "    \"use_cache\": null,\n",
      "    \"work_dir\": \"./outputs/20250321_231848\",\n",
      "    \"outputs\": null,\n",
      "    \"debug\": false,\n",
      "    \"dry_run\": false,\n",
      "    \"seed\": 42,\n",
      "    \"api_url\": null,\n",
      "    \"api_key\": \"EMPTY\",\n",
      "    \"timeout\": null,\n",
      "    \"stream\": false,\n",
      "    \"judge_strategy\": \"auto\",\n",
      "    \"judge_worker_num\": 8,\n",
      "    \"judge_model_args\": {}\n",
      "}\n",
      "2025-03-21 23:18:54,601 - evalscope - INFO - **** Start evaluating on dataset /root/autodl-tmp/test_set/PRCCC_C ****\n",
      "2025-03-21 23:18:54,601 - evalscope - INFO - Loading dataset from local disk: /root/autodl-tmp/test_set/PRCCC_C\n",
      "2025-03-21 23:18:54,602 - evalscope - INFO - Use default settings: > few_shot_num: 0, > few_shot_split: dev, > target_eval_split: val\n",
      "Predicting(PRCCC_C): 100%|██████████| 100/100 [00:03<00:00, 32.95it/s]\n",
      "2025-03-21 23:18:57,639 - evalscope - INFO - Dump predictions to ./outputs/20250321_231848/predictions/general_mcq_PRCCC_C.jsonl.\n",
      "Reviewing(PRCCC_C): 100%|██████████| 100/100 [00:00<00:00, 23762.42it/s]\n",
      "2025-03-21 23:18:57,656 - evalscope - INFO - Dump report: ./outputs/20250321_231848/reports/general_mcq.json \n",
      "\n",
      "2025-03-21 23:18:57,660 - evalscope - INFO - Report table: \n",
      "+---------+-------------+-----------------+----------+-------+---------+---------+\n",
      "| Model   | Dataset     | Metric          | Subset   |   Num |   Score | Cat.0   |\n",
      "+=========+=============+=================+==========+=======+=========+=========+\n",
      "|         | general_mcq | AverageAccuracy | PRCCC_C  |   100 |    0.17 | default |\n",
      "+---------+-------------+-----------------+----------+-------+---------+---------+ \n",
      "\n",
      "2025-03-21 23:18:57,660 - evalscope - INFO - **** Evaluation finished on /root/autodl-tmp/test_set/PRCCC_C ****\n",
      "\n"
     ]
    },
    {
     "data": {
      "text/plain": [
       "{'general_mcq': Report(name='_general_mcq', dataset_name='general_mcq', model_name='', score=0.17, metrics=[Metric(name='AverageAccuracy', num=100, score=0.17, macro_score=0.17, categories=[Category(name=('default',), num=100, score=0.17, macro_score=0.17, subsets=[Subset(name='PRCCC_C', score=0.17, num=100)])])])}"
      ]
     },
     "execution_count": 2,
     "metadata": {},
     "output_type": "execute_result"
    }
   ],
   "source": [
    "from evalscope.config import TaskConfig\n",
    "from evalscope.run import run_task\n",
    "from modelscope import AutoModelForCausalLM\n",
    "\n",
    "task_cfg = TaskConfig(\n",
    "    model='/root/autodl-tmp/FusionDeepSeek/',\n",
    "    datasets=['general_mcq'],  # 数据格式，选择题格式固定为 'general_mcq'\n",
    "    dataset_args={\n",
    "        'general_mcq': {\n",
    "            \"local_path\": \"/root/autodl-tmp/test_set/PRCCC_C\",  # 自定义数据集路径\n",
    "            \"subset_list\": [\n",
    "                \"PRCCC_C\"  # 评测数据集名称，上述subset_name\n",
    "            ]\n",
    "        }\n",
    "    },\n",
    ")\n",
    "run_task(task_cfg=task_cfg)"
   ]
  },
  {
   "cell_type": "code",
   "execution_count": null,
   "id": "9753e9b7-b02f-4152-b16d-194a916a4db3",
   "metadata": {},
   "outputs": [
    {
     "name": "stderr",
     "output_type": "stream",
     "text": [
      "2025-03-21 23:18:57,665 - evalscope - INFO - Args: Task config is provided with TaskConfig type.\n"
     ]
    },
    {
     "data": {
      "application/vnd.jupyter.widget-view+json": {
       "model_id": "8500a7010f2740babb6304192cf30129",
       "version_major": 2,
       "version_minor": 0
      },
      "text/plain": [
       "Loading checkpoint shards:   0%|          | 0/4 [00:00<?, ?it/s]"
      ]
     },
     "metadata": {},
     "output_type": "display_data"
    },
    {
     "name": "stderr",
     "output_type": "stream",
     "text": [
      "2025-03-21 23:19:03,643 - evalscope - WARNING - Got local model dir: /root/autodl-tmp/FusionDeepSeek/\n",
      "2025-03-21 23:19:03,644 - evalscope - INFO - Updating generation config ...\n",
      "2025-03-21 23:19:03,666 - evalscope - INFO - Dump task config to ./outputs/20250321_231857/configs/task_config_6f76c2.yaml\n",
      "2025-03-21 23:19:03,668 - evalscope - INFO - {\n",
      "    \"model\": \"/root/autodl-tmp/FusionDeepSeek/\",\n",
      "    \"model_id\": \"\",\n",
      "    \"model_args\": {\n",
      "        \"revision\": \"master\",\n",
      "        \"precision\": \"torch.float16\"\n",
      "    },\n",
      "    \"template_type\": null,\n",
      "    \"chat_template\": null,\n",
      "    \"datasets\": [\n",
      "        \"general_qa\"\n",
      "    ],\n",
      "    \"dataset_args\": {\n",
      "        \"general_qa\": {\n",
      "            \"name\": \"general_qa\",\n",
      "            \"dataset_id\": \"/root/autodl-tmp/test_set/PRCCC_N\",\n",
      "            \"model_adapter\": \"generation\",\n",
      "            \"output_types\": [\n",
      "                \"generation\"\n",
      "            ],\n",
      "            \"subset_list\": [\n",
      "                \"PRCCC_N\"\n",
      "            ],\n",
      "            \"metric_list\": [\n",
      "                \"AverageBLEU\",\n",
      "                \"AverageRouge\"\n",
      "            ],\n",
      "            \"few_shot_num\": 0,\n",
      "            \"few_shot_random\": false,\n",
      "            \"train_split\": null,\n",
      "            \"eval_split\": \"test\",\n",
      "            \"prompt_template\": \"请回答问题\\n{query}\",\n",
      "            \"system_prompt\": null,\n",
      "            \"query_template\": null,\n",
      "            \"pretty_name\": null,\n",
      "            \"filters\": null,\n",
      "            \"extra_params\": {}\n",
      "        }\n",
      "    },\n",
      "    \"dataset_dir\": \"/root/.cache/modelscope/hub/datasets\",\n",
      "    \"dataset_hub\": \"modelscope\",\n",
      "    \"generation_config\": {\n",
      "        \"max_length\": 2048,\n",
      "        \"max_new_tokens\": 512,\n",
      "        \"do_sample\": false,\n",
      "        \"top_k\": 50,\n",
      "        \"top_p\": 1.0,\n",
      "        \"temperature\": 1.0\n",
      "    },\n",
      "    \"eval_type\": \"checkpoint\",\n",
      "    \"eval_backend\": \"Native\",\n",
      "    \"eval_config\": null,\n",
      "    \"stage\": \"all\",\n",
      "    \"limit\": null,\n",
      "    \"eval_batch_size\": 1,\n",
      "    \"mem_cache\": false,\n",
      "    \"use_cache\": null,\n",
      "    \"work_dir\": \"./outputs/20250321_231857\",\n",
      "    \"outputs\": null,\n",
      "    \"debug\": false,\n",
      "    \"dry_run\": false,\n",
      "    \"seed\": 42,\n",
      "    \"api_url\": null,\n",
      "    \"api_key\": \"EMPTY\",\n",
      "    \"timeout\": null,\n",
      "    \"stream\": false,\n",
      "    \"judge_strategy\": \"auto\",\n",
      "    \"judge_worker_num\": 8,\n",
      "    \"judge_model_args\": {}\n",
      "}\n",
      "2025-03-21 23:19:03,669 - evalscope - INFO - **** Start evaluating on dataset /root/autodl-tmp/test_set/PRCCC_N ****\n",
      "2025-03-21 23:19:03,670 - evalscope - INFO - Use default settings: > few_shot_num: 0, > few_shot_split: None, > target_eval_split: test\n",
      "Predicting(PRCCC_N):   0%|          | 0/20 [00:00<?, ?it/s]"
     ]
    }
   ],
   "source": [
    "from evalscope.config import TaskConfig\n",
    "from evalscope.run import run_task\n",
    "from modelscope import AutoModelForCausalLM\n",
    "\n",
    "task_cfg = TaskConfig(\n",
    "    model='/root/autodl-tmp/FusionDeepSeek/',\n",
    "    datasets=['general_qa'],  # 数据格式，选择题格式固定为 'general_mcq'\n",
    "    dataset_args={\n",
    "        'general_qa': {\n",
    "            \"local_path\": \"/root/autodl-tmp/test_set/PRCCC_N\",  # 自定义数据集路径\n",
    "            \"subset_list\": [\n",
    "                \"PRCCC_N\"       # 评测数据集名称，上述 *.jsonl 中的 *\n",
    "            ]\n",
    "        }\n",
    "    },\n",
    ")\n",
    "\n",
    "run_task(task_cfg=task_cfg)"
   ]
  },
  {
   "cell_type": "code",
   "execution_count": null,
   "id": "624c45e5-38f8-4e7d-88c2-0d7bb2bccf46",
   "metadata": {},
   "outputs": [],
   "source": [
    "!evalscope app --server-port 6006"
   ]
  }
 ],
 "metadata": {
  "kernelspec": {
   "display_name": "Python 3 (ipykernel)",
   "language": "python",
   "name": "python3"
  },
  "language_info": {
   "codemirror_mode": {
    "name": "ipython",
    "version": 3
   },
   "file_extension": ".py",
   "mimetype": "text/x-python",
   "name": "python",
   "nbconvert_exporter": "python",
   "pygments_lexer": "ipython3",
   "version": "3.12.3"
  }
 },
 "nbformat": 4,
 "nbformat_minor": 5
}
